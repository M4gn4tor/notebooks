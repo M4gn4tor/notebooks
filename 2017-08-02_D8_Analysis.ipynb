{
 "cells": [
  {
   "cell_type": "code",
   "execution_count": 1,
   "metadata": {
    "collapsed": true
   },
   "outputs": [],
   "source": [
    "import numpy as np\n",
    "import pandas as pd\n",
    "from scipy import stats\n",
    "from matplotlib import pyplot as plt\n",
    "%matplotlib inline"
   ]
  },
  {
   "cell_type": "code",
   "execution_count": 2,
   "metadata": {
    "collapsed": true
   },
   "outputs": [],
   "source": [
    "raw_data = pd.Series([7, 2, 6, 6, 2, 2, 8, 1, 3, 7, 8, 8, 8, 4, 5, 3, 4, 7,\n",
    "                      1, 1, 3, 3, 8, 7, 6, 2, 1, 1, 5, 7, 4, 5, 8, 3, 2, 1,\n",
    "                      4, 3, 8, 7, 8, 5, 3, 4, 2, 2, 6, 7, 6, 4, 6, 6, 3, 3,\n",
    "                      6, 2, 5, 2, 4, 6, 4, 6, 8, 6, 2, 4, 5, 7])"
   ]
  },
  {
   "cell_type": "code",
   "execution_count": 3,
   "metadata": {},
   "outputs": [
    {
     "data": {
      "text/plain": [
       "68"
      ]
     },
     "execution_count": 3,
     "metadata": {},
     "output_type": "execute_result"
    }
   ],
   "source": [
    "n = len(raw_data) # Número de experimentos\n",
    "n"
   ]
  },
  {
   "cell_type": "code",
   "execution_count": 4,
   "metadata": {},
   "outputs": [
    {
     "data": {
      "text/plain": [
       "1     6\n",
       "2    10\n",
       "3     9\n",
       "4     9\n",
       "5     6\n",
       "6    11\n",
       "7     8\n",
       "8     9\n",
       "dtype: int64"
      ]
     },
     "execution_count": 4,
     "metadata": {},
     "output_type": "execute_result"
    }
   ],
   "source": [
    "freqs = raw_data.value_counts().sort_index()\n",
    "freqs"
   ]
  },
  {
   "cell_type": "code",
   "execution_count": 5,
   "metadata": {},
   "outputs": [
    {
     "data": {
      "image/png": "[encoded data removed]",
      "text/plain": [
       "<matplotlib.figure.Figure at 0x7f29e4727250>"
      ]
     },
     "metadata": {},
     "output_type": "display_data"
    }
   ],
   "source": [
    "freqs.plot.bar();"
   ]
  },
  {
   "cell_type": "code",
   "execution_count": 6,
   "metadata": {},
   "outputs": [
    {
     "data": {
      "text/plain": [
       "8"
      ]
     },
     "execution_count": 6,
     "metadata": {},
     "output_type": "execute_result"
    }
   ],
   "source": [
    "k = len(freqs.index) # Número de lados do dado\n",
    "k"
   ]
  },
  {
   "cell_type": "code",
   "execution_count": 7,
   "metadata": {},
   "outputs": [
    {
     "data": {
      "text/plain": [
       "1    8.5\n",
       "2    8.5\n",
       "3    8.5\n",
       "4    8.5\n",
       "5    8.5\n",
       "6    8.5\n",
       "7    8.5\n",
       "8    8.5\n",
       "dtype: float64"
      ]
     },
     "execution_count": 7,
     "metadata": {},
     "output_type": "execute_result"
    }
   ],
   "source": [
    "expected = pd.Series([float(n) / k] * k, index=freqs.index)\n",
    "expected"
   ]
  },
  {
   "cell_type": "code",
   "execution_count": 8,
   "metadata": {},
   "outputs": [
    {
     "data": {
      "text/plain": [
       "2.5882352941176472"
      ]
     },
     "execution_count": 8,
     "metadata": {},
     "output_type": "execute_result"
    }
   ],
   "source": [
    "chi_squared = ((freqs - expected) ** 2 / expected).sum()\n",
    "chi_squared"
   ]
  },
  {
   "cell_type": "code",
   "execution_count": 9,
   "metadata": {},
   "outputs": [
    {
     "data": {
      "text/plain": [
       "7"
      ]
     },
     "execution_count": 9,
     "metadata": {},
     "output_type": "execute_result"
    }
   ],
   "source": [
    "df = k - 1\n",
    "df"
   ]
  },
  {
   "cell_type": "code",
   "execution_count": 10,
   "metadata": {},
   "outputs": [
    {
     "data": {
      "text/plain": [
       "0.92030761806367933"
      ]
     },
     "execution_count": 10,
     "metadata": {},
     "output_type": "execute_result"
    }
   ],
   "source": [
    "p = stats.chi2.sf(chi_squared, df=df)\n",
    "p"
   ]
  },
  {
   "cell_type": "code",
   "execution_count": 11,
   "metadata": {
    "scrolled": true
   },
   "outputs": [
    {
     "name": "stdout",
     "output_type": "stream",
     "text": [
      "Retain the null! Can't tell anything about any possible dice bias...\n"
     ]
    }
   ],
   "source": [
    "alpha = .05\n",
    "print([\"Retain the null! Can't tell anything about any possible dice bias...\",\n",
    "       \"Reject the null! Dice is biased!!\"][p <= alpha])"
   ]
  },
  {
   "cell_type": "code",
   "execution_count": 12,
   "metadata": {},
   "outputs": [
    {
     "data": {
      "image/png": "[encoded data removed]",
      "text/plain": [
       "<matplotlib.figure.Figure at 0x7f29a5f41a50>"
      ]
     },
     "metadata": {},
     "output_type": "display_data"
    }
   ],
   "source": [
    "x = np.linspace(0, 25, 500)\n",
    "chi_squared_y = stats.chi2.pdf(x, df=df)\n",
    "filt_alpha = x > stats.chi2.isf(alpha, df=df)\n",
    "plt.plot(x, chi_squared_y, color=\"black\")\n",
    "plt.fill_between(x[filt_alpha], chi_squared_y[filt_alpha], 0, color=\"red\")\n",
    "plt.plot([chi_squared], [stats.chi2.pdf(chi_squared, df=df)], \"bx\");"
   ]
  }
 ],
 "metadata": {
  "kernelspec": {
   "display_name": "Python 2",
   "language": "python",
   "name": "python2"
  },
  "language_info": {
   "codemirror_mode": {
    "name": "ipython",
    "version": 2
   },
   "file_extension": ".py",
   "mimetype": "text/x-python",
   "name": "python",
   "nbconvert_exporter": "python",
   "pygments_lexer": "ipython2",
   "version": "2.7.13"
  }
 },
 "nbformat": 4,
 "nbformat_minor": 2
}
