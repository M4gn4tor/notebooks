{
 "cells": [
  {
   "cell_type": "markdown",
   "metadata": {},
   "source": [
    "# Mini-curso de Jupyter Notebook @ SciPy-SP\n",
    "\n",
    "por Danilo J. S. Bellini"
   ]
  },
  {
   "cell_type": "markdown",
   "metadata": {},
   "source": [
    "**Máximas do curso**:\n",
    "\n",
    "* Usou o mouse? Tente refazer sem utilizar o mouse (quando possível)!\n",
    "* Acabou? Ajude o colega que ainda não acabou!"
   ]
  },
  {
   "cell_type": "markdown",
   "metadata": {},
   "source": [
    "## Parte 0 - O que é o Jupyter Notebook?"
   ]
  },
  {
   "cell_type": "markdown",
   "metadata": {},
   "source": [
    "É uma alternativa aos REPL (*run-eval-print loop*) em linha de comando de diferentes linguagens para trabalhar com código interativo, utilizando \"células\" re-editáveis e re-ordenáveis, renderização de Markdown e $\\LaTeX$, entre outros recursos."
   ]
  },
  {
   "cell_type": "code",
   "execution_count": 1,
   "metadata": {
    "collapsed": false
   },
   "outputs": [
    {
     "name": "stdout",
     "output_type": "stream",
     "text": [
      "Hello SciPy-SP!\n"
     ]
    }
   ],
   "source": [
    "print(\"Hello Jupyter!\".replace(\"Jupyter\", \"SciPy-SP\"))"
   ]
  },
  {
   "cell_type": "markdown",
   "metadata": {},
   "source": [
    "Características gerais:\n",
    "\n",
    "* Aplicação web ao invés de CLI\n",
    "* *Spin-off* do IPython (`ipython notebook`)\n",
    "* Open-source (BSD 3 cláusulas)\n",
    "* Multi-linguagens (Python, R, Julia, Scala, Haskell, Erlang, ...)\n",
    "\n",
    "Permite criar e compartilhar documentos que contém:\n",
    "\n",
    "* Código a ser rodado \"ao vivo\" (Tanto *hands-on* como pequenas edições)\n",
    "* Equações $\\LaTeX$ via MathJax\n",
    "* Visualizações (e.g. gráficos e tabelas)\n",
    "* Texto explicativo\n",
    "\n",
    "Exemplos de casos de uso:\n",
    "\n",
    "* Limpeza e transformação de dados\n",
    "* Simulação numérica\n",
    "* Modelagem estatística\n",
    "* Machine learning\n",
    "* Alternativa a *slides* em apresentações"
   ]
  },
  {
   "cell_type": "markdown",
   "metadata": {},
   "source": [
    "### Exemplo: https://try.jupyter.org"
   ]
  },
  {
   "cell_type": "markdown",
   "metadata": {},
   "source": [
    "## Parte 1 - Instalar e rodar"
   ]
  },
  {
   "cell_type": "markdown",
   "metadata": {},
   "source": [
    "|Ambiente|Instalação|Execução|\n",
    "|:-|:-|:-|\n",
    "|pyenv/virtualenv|`pip install jupyter`|`jupyter notebook`|\n",
    "|Arch Linux|`pacman -S jupyter`|`jupyter notebook`|\n",
    "|Debian|`apt install jupyter-notebook`|`jupyter-notebook`|\n",
    "|Fedora|`dnf install notebook`|`jupyter-notebook`|\n",
    "\n",
    "Também é possível rodar o Jupyter no Docker, e.g. https://hub.docker.com/r/jupyter/datascience-notebook/"
   ]
  },
  {
   "cell_type": "markdown",
   "metadata": {},
   "source": [
    "O *Jupyter Notebook* inicia um servidor web com acesso limitado ao *current working directory*, que pode ser acessado no navegador em http://localhost:8888 (ou em outra porta, caso a 8888 já esteja em uso).\n",
    "\n",
    "Em algum terminal, crie o diretório `~/curso_jupyter`, e abra o Jupyter quando estiver dentro desse diretório."
   ]
  },
  {
   "cell_type": "markdown",
   "metadata": {},
   "source": [
    "Na aba *Files* do Jupyter Notebook, criamos um notebook indo em *New $\\rightarrow$ [Notebooks] Python 3*. Isso deve criar uma nova aba no navegador.\n",
    "\n",
    "Na parte superior dessa nova aba, encontram-se da esquerda para a direita, como barra de \"cabeçalho\":\n",
    "\n",
    "* Logo do Jupyter, um link que restaura a aba com a árvore de arquivos\n",
    "* Nome do arquivo (sem caminho e sem extensão), editável (basta clicar)\n",
    "* Descrição sobre o último checkpoint\n",
    "* Logo da linguagem utilizada no kernel\n",
    "\n",
    "Em *View $\\rightarrow$ Toggle Header* pode-se alternar a visualização dessa barra."
   ]
  },
  {
   "cell_type": "markdown",
   "metadata": {},
   "source": [
    "**Exercício**: Criar o arquivo `~/curso_jupyter/Células.ipynb` no Jupyter Notebook."
   ]
  },
  {
   "cell_type": "markdown",
   "metadata": {},
   "source": [
    "## Parte 2 - Cells"
   ]
  },
  {
   "cell_type": "markdown",
   "metadata": {},
   "source": [
    "![](cells.png)\n",
    "\n",
    "Não, não estamos falando de Dragon Ball Z..."
   ]
  },
  {
   "cell_type": "markdown",
   "metadata": {},
   "source": [
    "### O que são cells/células?"
   ]
  },
  {
   "cell_type": "markdown",
   "metadata": {},
   "source": [
    "*Cells* são o que compõe o seu notebook: cada notebook é uma sequência de cells / células."
   ]
  },
  {
   "cell_type": "markdown",
   "metadata": {},
   "source": [
    "As células são os objetos editáveis, e, similar ao `vim`, o editor web dos notebooks é modal!\n",
    "\n",
    "Há dois \"modos\", explícitos na a barra à esquerda da célula selecionada:\n",
    "\n",
    "|Cor|Modo|Tecla para entrar no modo|Operações atuam sobre|\n",
    "|:-:|:-:|:-:|:-|\n",
    "|<font color=\"#42a5f5\">**┃ (azul)**</font>|<font color=\"#42a5f5\">**Comando**</font>|<font color=\"#42a5f5\">**Esc**</font>|Células / layout|\n",
    "|<font color=\"#66bb6a\">**┃ (verde)**</font>|<font color=\"#66bb6a\">**Edição**</font>|<font color=\"#66bb6a\">**Enter**</font>|Conteúdo de uma célula em específico|"
   ]
  },
  {
   "cell_type": "markdown",
   "metadata": {},
   "source": [
    "### Modo de comando"
   ]
  },
  {
   "cell_type": "markdown",
   "metadata": {},
   "source": [
    "O comando `h` *help* (ajuda) exibe/fecha a lista de atalhos. O mesmo encontra-se em *Help $\\rightarrow$ Keyboard Shortcuts*."
   ]
  },
  {
   "cell_type": "markdown",
   "metadata": {},
   "source": [
    "Alguns comandos úteis:\n",
    "\n",
    "|Comando|Descrição|\n",
    "|:-:|:-|\n",
    "|`a`|Insere uma célula *above* (acima) da selecionada|\n",
    "|`b`|Insere uma célula *below* (abaixo) da selecionada, como o botão <i class=\"fa fa-plus\"></i>|\n",
    "|`x`|Remove (recorta) as células selecionadas|\n",
    "\n",
    "Mantendo o `Shift` pressionado, é possível selecionar um conjunto de células. A última célula da seleção é a utilizada nas operações que afetam apenas uma célula."
   ]
  },
  {
   "cell_type": "markdown",
   "metadata": {},
   "source": [
    "Além do mouse, para escolher a célula selecionada (mover o \"cursor\"), pode-se usar as setinhas do teclado para baixo/cima, ou respectivamente as teclas `j` e `k`, como no `vim`."
   ]
  },
  {
   "cell_type": "markdown",
   "metadata": {},
   "source": [
    "**Exercício**: Inserir 7 células no notebook, cada uma contendo um caractere da palavra `Jupyter`."
   ]
  },
  {
   "cell_type": "markdown",
   "metadata": {},
   "source": [
    "### Tipo de células"
   ]
  },
  {
   "cell_type": "markdown",
   "metadata": {},
   "source": [
    "Podemos mudar o tipo de uma célula com um comando (menu *Cell $\\rightarrow$ Cell Type*):\n",
    "\n",
    "|Comando|Descrição|\n",
    "|:-:|:-|\n",
    "|`r`|Célula *raw*, texto puro sem formatação|\n",
    "|`y`|Célula com código para rodar em um kernel (Python, no nosso caso)|\n",
    "|`m`|Célula com código em *Markdown* para ser renderizado|"
   ]
  },
  {
   "cell_type": "markdown",
   "metadata": {},
   "source": [
    "Para rodar o código ou renderizar o Markdown de uma célula, utilize (em qualquer modo):\n",
    "\n",
    "|Comando|Descrição|\n",
    "|:-:|:-|\n",
    "|`Ctrl + Enter`|Roda/renderiza a célula atual|\n",
    "|`Shift + Enter`|Idêntico à sequência `Ctrl + Enter`, `j`|\n",
    "|`Alt + Enter`|Idêntico à sequência `Ctrl + Enter`, `b`|"
   ]
  },
  {
   "cell_type": "markdown",
   "metadata": {},
   "source": [
    "**Exercício**: Triplicar as 7 células para que cada uma delas exista como:\n",
    "\n",
    "* Header 3 do Markdown (e.g. `### a`, caso a letra fosse `a`)\n",
    "* Texto puro sem formatação\n",
    "* Código Python que imprime o valor ASCII do caractere em hexadecimal"
   ]
  },
  {
   "cell_type": "markdown",
   "metadata": {},
   "source": [
    "### Ordem das células"
   ]
  },
  {
   "cell_type": "markdown",
   "metadata": {},
   "source": [
    "As células selecionadas podem ser movidas através dos botões <i class=\"fa fa-arrow-up\"></i> <i class=\"fa fa-arrow-down\"></i> ou pelo menu *Edit $\\rightarrow$ Move Cell Up/Down*. Embora essa operação não possua um comando pelo teclado, há uma alternativa para evitar o uso do mouse: o fatídico *cut and paste*! Para ordenar sem o mouse, basta recortar e colar no lugar desejado.\n",
    "\n",
    "|Comando|Descrição|Botão equivalente|\n",
    "|:-:|:-|:-:|\n",
    "|`x`|Recorta|<i class=\"fa fa-cut\"></i>|\n",
    "|`c`|Copia|<i class=\"fa fa-copy\"></i>|\n",
    "|`v`|Cola abaixo da célula selecionada|<i class=\"fa fa-paste\"></i>|\n",
    "|`Shift + v`|Cola acima da célula selecionada|N/A|\n",
    "\n",
    "No menu *Edit* há ainda opções para:\n",
    "\n",
    "* Colar e sobrescrever (*Paste Cells & Replace*)\n",
    "* Remover sem substituir a área de transferência (*Delete Cells*)"
   ]
  },
  {
   "cell_type": "markdown",
   "metadata": {},
   "source": [
    "**Exercício**: Colocar as células em ordem alfabética (*case insensitive*), mas agrupadas por tipo: primeiro todas as células em texto puro, então todas as células Markdown, e por último todas as com código Python."
   ]
  },
  {
   "cell_type": "markdown",
   "metadata": {},
   "source": [
    "### Split & Merge"
   ]
  },
  {
   "cell_type": "markdown",
   "metadata": {},
   "source": [
    "* *Split*: Com `Ctrl + Shift + -` (`-` é a tecla *menos*) no modo de edição, a célula é dividida em duas, em que o cursor da edição é a fronteira entre o conteúdo de cada uma das duas novas células, e a edição continua na segunda célula da divisão realizada\n",
    "* *Merge*: Com `Shift + m` no modo de comando, as células selecionadas (ou a única célula selecionada e a abaixo desta) são mescladas em uma única célula\n",
    "\n",
    "Também é possível realizar essas operações usando o *Edit $\\rightarrow$ Split Cell*, o *Edit $\\rightarrow$ Merge Cell Above*, e o *Edit $\\rightarrow$ Merge Cell Below*."
   ]
  },
  {
   "cell_type": "markdown",
   "metadata": {},
   "source": [
    "**Exercício**: Agrupar as células para que exista apenas uma célula de cada tipo."
   ]
  },
  {
   "cell_type": "markdown",
   "metadata": {},
   "source": [
    "### Undo"
   ]
  },
  {
   "cell_type": "markdown",
   "metadata": {},
   "source": [
    "No modo de edição, o *undo* (desfazer) tem uma pilha para cada célula, isto é, ao utilizar o `Ctrl + z` em uma célula, a última operação realizada nessa célula é desfeita, não a última operação de edição realizada em alguma célula.\n",
    "\n",
    "No modo de comando, o atalho é `z` e serve para desfazer uma operação de remoção de célula (*Edit $\\rightarrow$ Undo Delete Cells*), não qualquer operação."
   ]
  },
  {
   "cell_type": "markdown",
   "metadata": {},
   "source": [
    "### Salvar"
   ]
  },
  {
   "cell_type": "markdown",
   "metadata": {},
   "source": [
    "O comando `s` (no modo de comando) e o atalho `Ctrl + s` (em qualquer modo) salva da mesma forma que o botão <i class=\"fa fa-save\"></i>. Ao salvar, um *checkpoint* é armazenado no diretório `.ipynb_checkpoints/`."
   ]
  },
  {
   "cell_type": "markdown",
   "metadata": {},
   "source": [
    "## Parte 3 - Execução no kernel Python 3"
   ]
  },
  {
   "cell_type": "markdown",
   "metadata": {},
   "source": [
    "Os comandos são executados por algum interpretador, o núcleo (kernel) do notebook. Em nosso caso, o kernel é o do IPython (Python 3)."
   ]
  },
  {
   "cell_type": "markdown",
   "metadata": {},
   "source": [
    "### Ordem de execução"
   ]
  },
  {
   "cell_type": "markdown",
   "metadata": {},
   "source": [
    "Apesar da ordem das células ser manipulável, a ordem de execução é linear, como se estivéssemos desde o início em um REPL como o IPython."
   ]
  },
  {
   "cell_type": "markdown",
   "metadata": {},
   "source": [
    "**Exercício**: Criar o arquivo `~/curso_jupyter/IPython.ipynb` no Jupyter Notebook, e:\n",
    "\n",
    "* Criar 3 células de código, 2 com atribuições `flag = True` e `flag = False`, e uma terceira apenas com o `flag`, nessa ordem.\n",
    "* Rodar as células 1, 2 e 3, depois rodar 1 e 3, e depois rodar 2 e 3 novamente."
   ]
  },
  {
   "cell_type": "markdown",
   "metadata": {},
   "source": [
    "### Expressão final da célula"
   ]
  },
  {
   "cell_type": "markdown",
   "metadata": {},
   "source": [
    "Caso o último statement da célula de código seja uma expressão, e caso essa expressão devolva um valor que não seja `None`, a representação do resultado dessa expressão é exibida como $n$-ésima saída (associada à $n$-ésima entrada). Por exemplo:"
   ]
  },
  {
   "cell_type": "code",
   "execution_count": 2,
   "metadata": {
    "collapsed": false
   },
   "outputs": [
    {
     "data": {
      "text/plain": [
       "9"
      ]
     },
     "execution_count": 2,
     "metadata": {},
     "output_type": "execute_result"
    }
   ],
   "source": [
    "3 ** 2"
   ]
  },
  {
   "cell_type": "markdown",
   "metadata": {},
   "source": [
    "Isso é diferente de um `print`"
   ]
  },
  {
   "cell_type": "code",
   "execution_count": 3,
   "metadata": {
    "collapsed": false
   },
   "outputs": [
    {
     "name": "stdout",
     "output_type": "stream",
     "text": [
      "27\n"
     ]
    }
   ],
   "source": [
    "print(3 ** 3)"
   ]
  },
  {
   "cell_type": "markdown",
   "metadata": {},
   "source": [
    "Como no IPython, o `_` é uma variável que armazena o último resultado (não o último valor impresso)."
   ]
  },
  {
   "cell_type": "code",
   "execution_count": 4,
   "metadata": {
    "collapsed": false
   },
   "outputs": [
    {
     "name": "stdout",
     "output_type": "stream",
     "text": [
      "9\n"
     ]
    }
   ],
   "source": [
    "print(_)"
   ]
  },
  {
   "cell_type": "markdown",
   "metadata": {},
   "source": [
    "**Exercício**: Mudar as atribuições para que elas exibam o valor da constante `flag` sem exigir um `print`."
   ]
  },
  {
   "cell_type": "markdown",
   "metadata": {},
   "source": [
    "### Recursos do IPython"
   ]
  },
  {
   "cell_type": "markdown",
   "metadata": {},
   "source": [
    "* Acesso à $n$-ésima saída pelo número $n$, com a variável `_n`."
   ]
  },
  {
   "cell_type": "code",
   "execution_count": 5,
   "metadata": {
    "collapsed": false
   },
   "outputs": [
    {
     "data": {
      "text/plain": [
       "array([[ 1.,  0.],\n",
       "       [ 0.,  1.]])"
      ]
     },
     "execution_count": 5,
     "metadata": {},
     "output_type": "execute_result"
    }
   ],
   "source": [
    "import numpy as np # Uma célula pode ter múltiplos statements!\n",
    "np.eye(2)"
   ]
  },
  {
   "cell_type": "code",
   "execution_count": 6,
   "metadata": {
    "collapsed": false,
    "scrolled": true
   },
   "outputs": [
    {
     "data": {
      "text/plain": [
       "array([[ 2.,  0.],\n",
       "       [ 0.,  2.]])"
      ]
     },
     "execution_count": 6,
     "metadata": {},
     "output_type": "execute_result"
    }
   ],
   "source": [
    "_5 * 2"
   ]
  },
  {
   "cell_type": "markdown",
   "metadata": {},
   "source": [
    "* Acesso à história de comandos"
   ]
  },
  {
   "cell_type": "code",
   "execution_count": 7,
   "metadata": {
    "collapsed": false
   },
   "outputs": [
    {
     "name": "stdout",
     "output_type": "stream",
     "text": [
      "print(\"Hello Jupyter!\".replace(\"Jupyter\", \"SciPy-SP\"))\n",
      "3 ** 2\n",
      "print(3 ** 3)\n",
      "print(_)\n",
      "import numpy as np # Uma célula pode ter múltiplos statements!\n",
      "np.eye(2)\n",
      "_5 * 2\n",
      "%history\n"
     ]
    }
   ],
   "source": [
    "%history"
   ]
  },
  {
   "cell_type": "markdown",
   "metadata": {},
   "source": [
    "* Obtenção de ajuda com `?` e acesso ao código-fonte com `??`\n",
    "\n",
    "```python\n",
    "np.arange?      # Exibe a docstring e outras informações úteis\n",
    "np.linalg.det?? # Exibe o código fonte\n",
    "```"
   ]
  },
  {
   "cell_type": "markdown",
   "metadata": {},
   "source": [
    "* Code completion com TAB\n",
    "\n",
    "![](tab_completion.png)"
   ]
  },
  {
   "cell_type": "markdown",
   "metadata": {},
   "source": [
    "Para uma lista mais detalhada do que o IPython oferece, rode uma célula com o comando mágico `%quickref`."
   ]
  },
  {
   "cell_type": "markdown",
   "metadata": {},
   "source": [
    "### Reiniciando o kernel"
   ]
  },
  {
   "cell_type": "markdown",
   "metadata": {},
   "source": [
    "Como \"voltar\" / \"resetar\" os números de In/Out das células de código?\n",
    "\n",
    "*Resposta*: Reiniciando o kernel, por exemplo no menu *Kernel $\\rightarrow$ Restart & Run All*.\n",
    "\n",
    "É possível fazer o reinício (*Kernel $\\rightarrow$ Restart*) separadamente de uma nova execução (*Cell $\\rightarrow$ Run All*)."
   ]
  },
  {
   "cell_type": "markdown",
   "metadata": {},
   "source": [
    "**Exercício**: Forçar o seguinte histórico no seu notebook:\n",
    "\n",
    "```python\n",
    "flag = True\n",
    "flag\n",
    "str(_)\n",
    "flag = False\n",
    "flag\n",
    "flag\n",
    "True\n",
    "assert _1\n",
    "assert _2 == \"True\"\n",
    "assert not _3\n",
    "assert not _4\n",
    "assert _5\n",
    "%history\n",
    "```"
   ]
  },
  {
   "cell_type": "markdown",
   "metadata": {},
   "source": [
    "## Parte 4 - Configurando o Jupyter"
   ]
  },
  {
   "cell_type": "markdown",
   "metadata": {},
   "source": [
    "Há uma configuração geral do Jupyter para o usuário que o executou, a qual tipicamente fica no diretório `~/.jupyter/`"
   ]
  },
  {
   "cell_type": "code",
   "execution_count": 8,
   "metadata": {
    "collapsed": false,
    "scrolled": true
   },
   "outputs": [
    {
     "data": {
      "text/plain": [
       "'/home/danilo/.jupyter'"
      ]
     },
     "execution_count": 8,
     "metadata": {},
     "output_type": "execute_result"
    }
   ],
   "source": [
    "from jupyter_core.paths import jupyter_config_dir\n",
    "jupyter_config_dir()"
   ]
  },
  {
   "cell_type": "markdown",
   "metadata": {},
   "source": [
    "A configuração é realizada por meio do arquivo `nbconfig/notebook.json` localizado nesse diretório. Pelo próprio Jupyter é possível ler e alterar essa configuração global do usuário, usando um dicionário Python ao invés de um JSON."
   ]
  },
  {
   "cell_type": "markdown",
   "metadata": {},
   "source": [
    "Por exemplo, <font color=\"red\">para aqueles que também se incomodam com os `()[]{}` \"automáticos\" que ignoram o digitado ou ficam duplicados quando não deveriam</font>, é possível configurar o Jupyter para desabilitar esse recurso `autoCloseBrackets`."
   ]
  },
  {
   "cell_type": "code",
   "execution_count": 9,
   "metadata": {
    "collapsed": false
   },
   "outputs": [],
   "source": [
    "from notebook.services.config import ConfigManager\n",
    "ConfigManager().update(\"notebook\", {\"CodeCell\": {\"cm_config\": {\"autoCloseBrackets\": False}}});"
   ]
  },
  {
   "cell_type": "markdown",
   "metadata": {},
   "source": [
    "Alterações somente são aplicadas ao fechar e abrir a janela (não é necessário encerrar o kernel).\n",
    "\n",
    "Há também uma configuração do sistema, tipicamente localizada em `/etc/jupyter/notebook.json`"
   ]
  },
  {
   "cell_type": "code",
   "execution_count": 10,
   "metadata": {
    "collapsed": false,
    "scrolled": false
   },
   "outputs": [
    {
     "data": {
      "text/plain": [
       "{'CodeCell': {'cm_config': {'autoCloseBrackets': False, 'dragDrop': False}},\n",
       " 'load_extensions': {'jupyter-js-widgets/extension': True}}"
      ]
     },
     "execution_count": 10,
     "metadata": {},
     "output_type": "execute_result"
    }
   ],
   "source": [
    "ConfigManager().get(\"notebook\") # Exibe toda a configuração"
   ]
  },
  {
   "cell_type": "markdown",
   "metadata": {},
   "source": [
    "Os recursos `cm_config` do `CodeCell` são do CodeMirror: https://codemirror.net/doc/manual.html\n",
    "\n",
    "Em particular, isso significa que a seleção múltipla no modo de edição é naturalmente habilitada ao clicar em múltiplos pontos de uma única célula enquanto o `Ctrl` é mantido pressionado.\n",
    "\n",
    "Podemos mudar outros valores além do `autoCloseBrackets`, por exemplo:\n",
    "\n",
    "* `autoCloseBrackets` (default é `True`)\n",
    "* `indentUnit` (default é `4`)\n",
    "* `tabSize` (default é `4`)\n",
    "* `indentWithTabs` (default é `False`)\n",
    "* `dragDrop` (default é `True`)\n",
    "\n",
    "Além do `notebook.json` há arquivos para outras seções (e.g. `editor.json`, `tree.json`, etc.)."
   ]
  },
  {
   "cell_type": "markdown",
   "metadata": {},
   "source": [
    "**Exercício**: Atribuir o valor desejado para alguma dessas 5 configurações."
   ]
  },
  {
   "cell_type": "markdown",
   "metadata": {},
   "source": [
    "### Encerrando o Jupyter"
   ]
  },
  {
   "cell_type": "markdown",
   "metadata": {},
   "source": [
    "Fechar a aba ou o navegador não encerra o kernel utilizado pelo notebook, muito menos o servidor web.\n",
    "\n",
    "Para encerrar um kernel, vá na árvore (clicar no logo do Jupyter ou ir em http://localhost:8888/tree ou o equivalente para sua configuração), e na aba *Running* há botões para *Shutdown* dos notebooks abertos.\n",
    "\n",
    "Caso queira encerrar o servidor web do Jupyter Notebook, pressione `Ctrl + c` no console em que este se encontra aberto e confirme com `y`."
   ]
  },
  {
   "cell_type": "markdown",
   "metadata": {},
   "source": [
    "**Exercício**: Encerrar todos os notebooks abertos, o servidor, e abrir novamente o servidor."
   ]
  },
  {
   "cell_type": "markdown",
   "metadata": {},
   "source": [
    "## Parte 5 - Matplotlib"
   ]
  },
  {
   "cell_type": "markdown",
   "metadata": {},
   "source": [
    "Além de obviamente importar o próprio Matplotlib,"
   ]
  },
  {
   "cell_type": "code",
   "execution_count": 11,
   "metadata": {
    "collapsed": true
   },
   "outputs": [],
   "source": [
    "from matplotlib import pyplot as plt"
   ]
  },
  {
   "cell_type": "markdown",
   "metadata": {},
   "source": [
    "para que o Matplotlib renderize os gráficos no notebook, é necessário rodar o seguinte comando \"mágico\":"
   ]
  },
  {
   "cell_type": "code",
   "execution_count": 12,
   "metadata": {
    "collapsed": true
   },
   "outputs": [],
   "source": [
    "%matplotlib inline"
   ]
  },
  {
   "cell_type": "markdown",
   "metadata": {},
   "source": [
    "Tal comando \"mágico\" também é necessário para permitir que outras bibliotecas (e.g. Pandas) plote com o Matplotlib."
   ]
  },
  {
   "cell_type": "code",
   "execution_count": 13,
   "metadata": {
    "collapsed": false
   },
   "outputs": [
    {
     "data": {
      "text/plain": [
       "[<matplotlib.lines.Line2D at 0x7f1b999e4160>]"
      ]
     },
     "execution_count": 13,
     "metadata": {},
     "output_type": "execute_result"
    },
    {
     "data": {
      "image/png": "[encoded data removed]",
      "text/plain": [
       "<matplotlib.figure.Figure at 0x7f1b99d0dda0>"
      ]
     },
     "metadata": {},
     "output_type": "display_data"
    }
   ],
   "source": [
    "plt.plot([1, 2], [1, 2])"
   ]
  },
  {
   "cell_type": "markdown",
   "metadata": {},
   "source": [
    "Repare no `[<matplotlib.lines.Line2D at 0x...>]` resultante. Isso ocorre por ter sido o resultado da expressão `plt.plot(...)`, mas não queremos que tal texto apareça. Podemos simplesmente forçar que o último statement seja vazio utilizando um `;` ao final da linha da expressão, quando esta é a final:"
   ]
  },
  {
   "cell_type": "code",
   "execution_count": 14,
   "metadata": {
    "collapsed": false
   },
   "outputs": [
    {
     "data": {
      "image/png": "[encoded data removed]",
      "text/plain": [
       "<matplotlib.figure.Figure at 0x7f1b999afa20>"
      ]
     },
     "metadata": {},
     "output_type": "display_data"
    }
   ],
   "source": [
    "plt.plot([1, 2], [1, 2]);"
   ]
  },
  {
   "cell_type": "markdown",
   "metadata": {},
   "source": [
    "**Exercício**: Copiar o gráfico abaixo e criar um novo para a função logaritmo natural para $x$ de $0.5$ a $5$."
   ]
  },
  {
   "cell_type": "code",
   "execution_count": 15,
   "metadata": {
    "collapsed": false
   },
   "outputs": [
    {
     "data": {
      "image/png": "[encoded data removed]",
      "text/plain": [
       "<matplotlib.figure.Figure at 0x7f1b999dda90>"
      ]
     },
     "metadata": {},
     "output_type": "display_data"
    }
   ],
   "source": [
    "x = np.linspace(-2, 2, 50)\n",
    "y = x ** 2\n",
    "fig, ax = plt.subplots(1, 1, figsize=(16, 5))\n",
    "ax.plot(x, y, color=\"blue\")\n",
    "ax.set(title=\"Gráfico de $x^2$\",\n",
    "       xlabel=\"Abscissas\",\n",
    "       ylabel=\"Ordenadas\",\n",
    "       xlim=[-2, 2],\n",
    "       ylim=[0, 4]);"
   ]
  },
  {
   "cell_type": "markdown",
   "metadata": {},
   "source": [
    "Há várias outras formas para se realizar plots com o Matplotlib, mas um aprofundamento nessa direção foge do escopo deste mini-curso."
   ]
  },
  {
   "cell_type": "markdown",
   "metadata": {},
   "source": [
    "## Parte 6 - Markdown"
   ]
  },
  {
   "cell_type": "markdown",
   "metadata": {},
   "source": [
    "Markdown é uma linguagem para a escrita de textos para serem renderizados, convertendo marcações no texto puro em formatações.\n",
    "\n",
    "Por exemplo, o *itálico* (ou *com ênfase*) pode ser obtido a partir do uso de asteriscos: `*itálico*`; e o **negrito** (ou **bold face**) pode ser obtido a partir do uso de $2$ asteriscos: `**negrito**`.\n",
    "\n",
    "Títulos podem ser criados a partir do uso de caracteres `#` de prefixo, na forma:\n",
    "\n",
    "* `# Header 1`\n",
    "* `## Header 2`\n",
    "* `### Header 3`\n",
    "\n",
    "Isso equivale ao `<h1>`, `<h2>` e `<h3>` do HTML. Em geral, quanto menor o número, maior o tamanho do texto resultante, como ocorre com o título deste notebook (header 1) em contraste com o das partes numeradas (header 2) e o título das subseções das partes (header 3).\n",
    "\n",
    "Os números no modo de comando do Jupyter mudam a célula para uma Markdown já com o prefixo do header do respectivo número digitado (um dos motivos pelos quais é comum que o título tenha uma célula exclusivamente para si)."
   ]
  },
  {
   "cell_type": "markdown",
   "metadata": {},
   "source": [
    "O uso de `---` (três traços) cria uma linha horizontal, como esta:\n",
    "\n",
    "---"
   ]
  },
  {
   "cell_type": "markdown",
   "metadata": {},
   "source": [
    "### Listas"
   ]
  },
  {
   "cell_type": "markdown",
   "metadata": {},
   "source": [
    "Não-ordenadas, basta usar `\"* \"` (asterisco-espaço) como prefixo:\n",
    "\n",
    "- Exemplo\n",
    "- de lista\n",
    "  - aninhada\n",
    "\n",
    "Também é válido usar `-` no lugar de `*`, e prefixos numerados como `1.` se mantém:\n",
    "\n",
    "1. Exemplo\n",
    "2. com\n",
    "3. números\n",
    "\n",
    "O conteúdo de cada item pode ocupar mais de uma linha, a indentação é o que garante a pertinência do conteúdo ao item."
   ]
  },
  {
   "cell_type": "markdown",
   "metadata": {},
   "source": [
    "### Código"
   ]
  },
  {
   "cell_type": "markdown",
   "metadata": {},
   "source": [
    "Para colocar código como texto inline, usa-se backticks como em \\``texto`\\`. Os backticks fazem o texto interno aparecer monoespaçado e sem a possível formatação de um código em Markdown.\n",
    "\n",
    "Triplos backticks \\`\\`\\` criam um bloco multi-linhas para o código, e se o bloco inicial tiver o nome da linguagem, esta será renderizada com highlighting (se houver highlighter).\n",
    "\n",
    "**Exercício**: Copiar o código abaixo em um bloco de texto em markdown.\n",
    "\n",
    "\\`\\`\\``python`\n",
    "\n",
    "`print(\"Hello Markdown!\")`\n",
    "\n",
    "\\`\\`\\`"
   ]
  },
  {
   "cell_type": "markdown",
   "metadata": {},
   "source": [
    "### HTML"
   ]
  },
  {
   "cell_type": "markdown",
   "metadata": {},
   "source": [
    "Código em HTML é considerado Markdown válido. Em particular isso permite a inserção de imagens, links e tabelas a partir do HTML, mas o Markdown também possui esses recursos nativamente.\n",
    "\n",
    "Links podem ser criados com a sintaxe `[Texto do link](URL)`, e imagens com `![](URL)`, além do uso da sintaxe do HTML.\n",
    "\n",
    "Um recurso em que o HTML4 pode ser útil é para colocar cores em fontes: `<font color=\"#RRGGBB\">Texto</font>` é o que permite que o texto em uma célula do Jupyter fique colorido. Ao invés do componente `#RRGGBB`, pode-se utilizar o nome da cor."
   ]
  },
  {
   "cell_type": "markdown",
   "metadata": {},
   "source": [
    "**Exercício**: Faça um lista com as cores <font color=\"red\">vermelho</font>, <font color=\"blue\">azul</font>, <font color=\"green\">verde</font>, <font color=\"gray\">cinza</font> e <font color=\"yellow\">amarelo</font> (e outras mais, caso queira)."
   ]
  },
  {
   "cell_type": "markdown",
   "metadata": {},
   "source": [
    "### Tabelas"
   ]
  },
  {
   "cell_type": "markdown",
   "metadata": {},
   "source": [
    "Tabelas em Markdown são criadas a partir de símbolos `|` como separadores, início e fim. A primeira linha contém os títulos, a segunda deve conter hífens/menos `-` como conteúdo, e da terceira em diante os valores da tabela. Na segunda linha, é possível controlar se o texto de cada coluna é orientado à esquerda (`|:-|`), à direita (`|-:|`) ou centralizado (`|:-:|`).\n",
    "\n",
    "**Exercício**: Copie a tabela abaixo.\n",
    "\n",
    "|Lado|Área|Perímetro|\n",
    "|-:|:-:|:-|\n",
    "|1|1|*quatro*|\n",
    "|2|*quatro*|8|\n",
    "|3|9|**UMA DÚZIA!**|"
   ]
  },
  {
   "cell_type": "markdown",
   "metadata": {
    "collapsed": true
   },
   "source": [
    "### LaTeX"
   ]
  },
  {
   "cell_type": "markdown",
   "metadata": {},
   "source": [
    "Com o símbolo de `$` é possível criar blocos em $\\LaTeX$, por exemplo `$2 + 2$` para criar uma equação inline: $2 + 2$\n",
    "\n",
    "E também entre duplo cifrão, representando uma linha isolada como em:\n",
    "\n",
    "$$\\frac{2}{\\sqrt{\\pi}} \\cdot \\frac{3}{\\sqrt{\\pi}} \\cdots \\frac{15}{\\sqrt{\\pi}}$$\n",
    "\n",
    "Cujo código é\n",
    "\n",
    "```latex\n",
    "$$\\frac{2}{\\sqrt{\\pi}} \\cdot \\frac{3}{\\sqrt{\\pi}} \\cdots \\frac{15}{\\sqrt{\\pi}}$$\n",
    "```\n",
    "\n",
    "Os comandos do $\\LaTeX$ são iniciados pela contrabarra, e blocos podem ser agrupados por chaves."
   ]
  },
  {
   "cell_type": "markdown",
   "metadata": {},
   "source": [
    "**Exercício**: Copiar o que consta entre as barras horizontais (inclusive as mesmas):"
   ]
  },
  {
   "cell_type": "markdown",
   "metadata": {},
   "source": [
    "---\n",
    "\n",
    "Há diferentes formas de encontrar uma aproximação do valor de pi, por exemplo:\n",
    "\n",
    "\n",
    "\n",
    "1. A série de Madhava-Gregory-Leibniz\n",
    "\n",
    "  $$\\frac{\\pi}{4} = 1 - \\frac{1}{3} + \\frac{1}{5} - \\frac{1}{7} + \\cdots$$\n",
    "\n",
    "2. A série de Nilakantha\n",
    "\n",
    "  $$\\pi = 3 + \\frac{4}{2 \\cdot 3 \\cdot 4} - \\frac{4}{5 \\cdot 6 \\cdot 7} + \\frac{4}{8 \\cdot 9 \\cdot 10} - \\cdots$$\n",
    "\n",
    "---"
   ]
  },
  {
   "cell_type": "markdown",
   "metadata": {},
   "source": [
    "Graças ao MathJax, é possível usar recursos que iriam exigir a importação de pacotes no $\\LaTeX$, para esses casos usa-se o comando não-padrão `\\require{nome_pacote}` no início da expressão. É uma exceção, já que a importação dos pacotes no LaTeX em geral não ocorre dentro de uma expressão. O `\\cancel{conteúdo}` para fazer um corte exige o uso do pacote `cancel`, permitindo coisas do tipo $\\require{cancel}2 + \\cancel{1 - 1}$."
   ]
  },
  {
   "cell_type": "markdown",
   "metadata": {},
   "source": [
    "**Exercício**: Multiplicar a série de Madhava-Gregory-Leibniz por 4 dos 2 lados, e cortar o número 4 no numerador e denominador do lado esquerdo da expressão."
   ]
  },
  {
   "cell_type": "markdown",
   "metadata": {},
   "source": [
    "## Parte 7 - Pandas e resultados longos"
   ]
  },
  {
   "cell_type": "markdown",
   "metadata": {},
   "source": [
    "Os DataFrames do Pandas têm seu conteúdo renderizado em tabelas no Jupyter."
   ]
  },
  {
   "cell_type": "code",
   "execution_count": 16,
   "metadata": {
    "collapsed": true
   },
   "outputs": [
    {
     "data": {
      "text/html": [
       "<div>\n",
       "<table border=\"1\" class=\"dataframe\">\n",
       "  <thead>\n",
       "    <tr style=\"text-align: right;\">\n",
       "      <th></th>\n",
       "      <th>A</th>\n",
       "      <th>B</th>\n",
       "      <th>C</th>\n",
       "      <th>D</th>\n",
       "    </tr>\n",
       "  </thead>\n",
       "  <tbody>\n",
       "    <tr>\n",
       "      <th>$H_0$ (Hipótese nula)</th>\n",
       "      <td>7</td>\n",
       "      <td>2</td>\n",
       "      <td>5</td>\n",
       "      <td>3</td>\n",
       "    </tr>\n",
       "    <tr>\n",
       "      <th>$H_A$ (Hipótese alternativa / Experimento)</th>\n",
       "      <td>18</td>\n",
       "      <td>15</td>\n",
       "      <td>13</td>\n",
       "      <td>10</td>\n",
       "    </tr>\n",
       "  </tbody>\n",
       "</table>\n",
       "</div>"
      ],
      "text/plain": [
       "                                             A   B   C   D\n",
       "$H_0$ (Hipótese nula)                        7   2   5   3\n",
       "$H_A$ (Hipótese alternativa / Experimento)  18  15  13  10"
      ]
     },
     "execution_count": 16,
     "metadata": {},
     "output_type": "execute_result"
    }
   ],
   "source": [
    "import pandas as pd\n",
    "data = pd.DataFrame([[7, 2, 5, 3], [18, 15, 13, 10]],\n",
    "                    columns=list(\"ABCD\"),\n",
    "                    index=[\"$H_0$ (Hipótese nula)\",\n",
    "                           \"$H_A$ (Hipótese alternativa / Experimento)\"])\n",
    "data"
   ]
  },
  {
   "cell_type": "markdown",
   "metadata": {},
   "source": [
    "Alguns detalhes:\n",
    "\n",
    "* As enumeração das linhas do código são acionadas com o comando `l` (modo comando)\n",
    "* O resultado pode ser exibido/escondido com `o`, de onde deriva as reticências\n",
    "* O código em LaTeX nos índices do DataFrame também são renderizados quando dentro das tabelas"
   ]
  },
  {
   "cell_type": "markdown",
   "metadata": {},
   "source": [
    "**Exercício**: Vá em https://github.com/danilobellini/scientific-literature e peguem o arquivo `1936-Fisher/iris.csv` com o Iris dataset. Mostre o conteúdo do arquivo usando a função `pd.read_csv`. Depois:\n",
    "\n",
    "* Clique na região do `Out` (parte inferior esquerda) para habilitar/desabilitar a barra de rolagem\n",
    "* Utilize `Shift + o` para realizar a mesma tarefa"
   ]
  },
  {
   "cell_type": "markdown",
   "metadata": {},
   "source": [
    "## Parte 8 - Extras"
   ]
  },
  {
   "cell_type": "markdown",
   "metadata": {},
   "source": [
    "### Shapely"
   ]
  },
  {
   "cell_type": "markdown",
   "metadata": {},
   "source": [
    "Qualquer biblioteca pode ter sua própria renderização de objetos no Jupyter. A título de exemplo, a *Shapely* exibe seus objetos renderizando um SVG para o Jupyter:"
   ]
  },
  {
   "cell_type": "code",
   "execution_count": 17,
   "metadata": {
    "collapsed": false
   },
   "outputs": [
    {
     "data": {
      "image/svg+xml": [
       "<svg xmlns=\"http://www.w3.org/2000/svg\" xmlns:xlink=\"http://www.w3.org/1999/xlink\" width=\"100.0\" height=\"100.0\" viewBox=\"0.96 0.96 1.08 1.08\" preserveAspectRatio=\"xMinYMin meet\"><g transform=\"matrix(1,0,0,-1,0,3.0)\"><g><path fill-rule=\"evenodd\" fill=\"#66cc99\" stroke=\"#555555\" stroke-width=\"0.0216\" opacity=\"0.6\" d=\"M 1.6767766952966368,1.3232233047033632 L 2.0,1.0 L 1.0,1.0 L 1.0,2.0 L 1.323223304703363,1.676776695296637 L 1.3067473866593158,1.6585983210409112 L 1.2921325969243636,1.6388925582549005 L 1.2795196839129113,1.6178491842064993 L 1.2690301168721783,1.5956708580912724 L 1.2607649160669476,1.5725711693136155 L 1.2548036798991924,1.5487725805040318 L 1.2512038183319507,1.52450428508239 L 1.25,1.4999999999999998 L 1.2512038183319507,1.4754957149176096 L 1.2548036798991924,1.4512274194959676 L 1.2607649160669478,1.427428830686384 L 1.2690301168721785,1.4043291419087272 L 1.2795196839129115,1.3821508157935003 L 1.292132596924364,1.361107441745099 L 1.306747386659316,1.3414016789590884 L 1.3232233047033635,1.3232233047033628 L 1.341401678959089,1.3067473866593153 L 1.3611074417451,1.2921325969243633 L 1.382150815793501,1.279519683912911 L 1.404329141908728,1.269030116872178 L 1.427428830686385,1.2607649160669476 L 1.4512274194959685,1.2548036798991924 L 1.4754957149176102,1.2512038183319507 L 1.5000000000000004,1.25 L 1.5245042850823904,1.251203818331951 L 1.5487725805040324,1.2548036798991924 L 1.572571169313616,1.2607649160669478 L 1.5956708580912726,1.2690301168721785 L 1.6178491842064997,1.2795196839129113 L 1.6388925582549008,1.2921325969243638 L 1.6585983210409116,1.306747386659316 L 1.6767766952966368,1.3232233047033632 z\" /><path fill-rule=\"evenodd\" fill=\"#66cc99\" stroke=\"#555555\" stroke-width=\"0.0216\" opacity=\"0.6\" d=\"M 1.6767766952966368,1.3232233047033632 L 1.323223304703363,1.676776695296637 L 1.3414016789590886,1.6932526133406842 L 1.3611074417450992,1.7078674030756362 L 1.3821508157935003,1.7204803160870887 L 1.4043291419087272,1.7309698831278215 L 1.427428830686384,1.7392350839330522 L 1.4512274194959673,1.7451963201008076 L 1.4754957149176091,1.748796181668049 L 1.4999999999999993,1.75 L 1.5245042850823893,1.7487961816680493 L 1.548772580504031,1.7451963201008078 L 1.5725711693136146,1.7392350839330524 L 1.5956708580912715,1.7309698831278222 L 1.6178491842064984,1.7204803160870892 L 1.6388925582548994,1.707867403075637 L 1.6585983210409103,1.693252613340685 L 1.6767766952966359,1.6767766952966379 L 1.6932526133406833,1.6585983210409125 L 1.7078674030756353,1.6388925582549019 L 1.720480316087088,1.6178491842065008 L 1.730969883127821,1.595670858091274 L 1.7392350839330517,1.5725711693136173 L 1.7451963201008072,1.548772580504034 L 1.748796181668049,1.5245042850823922 L 1.75,1.500000000000002 L 1.75,1.5 L 1.7487961816680493,1.4754957149176098 L 1.7451963201008076,1.451227419495968 L 1.7392350839330522,1.4274288306863845 L 1.7309698831278217,1.4043291419087276 L 1.7204803160870887,1.3821508157935007 L 1.7078674030756364,1.3611074417450997 L 1.6932526133406844,1.3414016789590888 L 1.676776695296637,1.3232233047033632 L 1.6767766952966368,1.3232233047033632 z\" /></g></g></svg>"
      ],
      "text/plain": [
       "<shapely.geometry.multipolygon.MultiPolygon at 0x7f1b99928a90>"
      ]
     },
     "execution_count": 17,
     "metadata": {},
     "output_type": "execute_result"
    }
   ],
   "source": [
    "from shapely.geometry import Polygon, Point\n",
    "Polygon([(1, 1), (2, 1), (1, 2)]).symmetric_difference(Point(1.5, 1.5).buffer(.25))"
   ]
  },
  {
   "cell_type": "markdown",
   "metadata": {},
   "source": [
    "### JavaScript"
   ]
  },
  {
   "cell_type": "markdown",
   "metadata": {},
   "source": [
    "Apesar do kernel ser Python, é possível rodar código em JavaScript usando o interpretador do navegador:\n",
    "\n",
    "```js\n",
    "%%javascript\n",
    "alert(\"Hello World!\")\n",
    "```"
   ]
  },
  {
   "cell_type": "markdown",
   "metadata": {},
   "source": [
    "### Fim! Use tudo de uma só vez!"
   ]
  },
  {
   "cell_type": "markdown",
   "metadata": {},
   "source": [
    "**Tarefa final**: Reconstruir este notebook sem copiar o código do mesmo!"
   ]
  }
 ],
 "metadata": {
  "kernelspec": {
   "display_name": "Python 3",
   "language": "python",
   "name": "python3"
  },
  "language_info": {
   "codemirror_mode": {
    "name": "ipython",
    "version": 3
   },
   "file_extension": ".py",
   "mimetype": "text/x-python",
   "name": "python",
   "nbconvert_exporter": "python",
   "pygments_lexer": "ipython3",
   "version": "3.5.3"
  }
 },
 "nbformat": 4,
 "nbformat_minor": 2
}
